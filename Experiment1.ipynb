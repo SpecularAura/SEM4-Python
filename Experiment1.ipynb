{
  "nbformat": 4,
  "nbformat_minor": 0,
  "metadata": {
    "colab": {
      "provenance": []
    },
    "kernelspec": {
      "name": "python3",
      "display_name": "Python 3"
    },
    "language_info": {
      "name": "python"
    }
  },
  "cells": [
    {
      "cell_type": "code",
      "execution_count": null,
      "metadata": {
        "id": "DSq1OUlEK2-Q"
      },
      "outputs": [],
      "source": []
    },
    {
      "cell_type": "markdown",
      "source": [
        "1. - To swap two numbers\n",
        "   - check if the first number is positive or negative or zero\n",
        "2. - To check whether the entered string is palindrome\n",
        "   - Find the factorial of the input number.\n",
        "3. Perform the following operations using Lists: \n",
        " - Separate even and odd nos from the list\n",
        " - merge and sort the two list\n",
        " - update the first element with x value and delete the middle element of the list.\n",
        " - find the minimum and maximum element from the list.\n",
        " - add n names in to the existing  list and check if the word \"python\" is present in the list\n",
        "4. Perform the following operations using Tuples: \n",
        " - Create a Tuple to store Student details (rno, name , subjects marks, total)\n",
        " - Display the details\n",
        " - Sort the tuples wrt to total\n",
        "5. Perform the following operations using Sets:\n",
        " - Accept two strings  using variable declarations.\n",
        " - Display the common letters.\n",
        " - Display letters present only in the first string \n",
        " - Display all letters of both string \n",
        " - Display letters which are not common in both strings. (Symmetric Difference)\n",
        "6. Create a dictionary to perform the following operations:\n",
        " - Update, concatenate, delete \n",
        " - search a key \n",
        " - mapping two list into dictionary\n",
        "7. To search a given element in the Array.\n",
        "\n",
        "\n"
      ],
      "metadata": {
        "id": "V1QfLSCpLOpg"
      }
    },
    {
      "cell_type": "code",
      "source": [
        "a = input(\"Enter a number: \")\n",
        "b = input(\"Enter another number: \")\n",
        "print(\"Before Swapping: a = \" + a + \" b = \" + b)\n",
        "temp = a\n",
        "a = b \n",
        "b = temp\n",
        "print(\"After Swapping: a = \" + a + \" b = \" + b)"
      ],
      "metadata": {
        "colab": {
          "base_uri": "https://localhost:8080/"
        },
        "id": "lMVab1jGLX5n",
        "outputId": "234beb89-f964-4d92-9862-377f8ebf3643"
      },
      "execution_count": null,
      "outputs": [
        {
          "output_type": "stream",
          "name": "stdout",
          "text": [
            "Enter a number: 5\n",
            "Enter another number: 6\n",
            "Before Swapping: a = 5b = 6\n",
            "After Swapping: a = 6b = 5\n"
          ]
        }
      ]
    },
    {
      "cell_type": "code",
      "source": [],
      "metadata": {
        "id": "XpjibjeVcIbF"
      },
      "execution_count": null,
      "outputs": []
    }
  ]
}