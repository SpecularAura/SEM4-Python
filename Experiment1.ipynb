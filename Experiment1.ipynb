{
  "nbformat": 4,
  "nbformat_minor": 0,
  "metadata": {
    "colab": {
      "provenance": [],
      "toc_visible": true
    },
    "kernelspec": {
      "name": "python3",
      "display_name": "Python 3"
    },
    "language_info": {
      "name": "python"
    }
  },
  "cells": [
    {
      "cell_type": "markdown",
      "source": [
        "1. - To swap two numbers\n",
        "   - check if the first number is positive or negative or zero\n",
        "2. - To check whether the entered string is palindrome\n",
        "   - Find the factorial of the input number.\n",
        "3. Perform the following operations using Lists: \n",
        " - Separate even and odd nos from the list\n",
        " - merge and sort the two list\n",
        " - update the first element with x value and delete the middle element of the list.\n",
        " - find the minimum and maximum element from the list.\n",
        " - add n names in to the existing  list and check if the word \"python\" is present in the list\n",
        "4. Perform the following operations using Tuples: \n",
        " - Create a Tuple to store Student details (rno, name , subjects marks, total)\n",
        " - Display the details\n",
        " - Sort the tuples wrt to total\n",
        "5. Perform the following operations using Sets:\n",
        " - Accept two strings  using variable declarations.\n",
        " - Display the common letters.\n",
        " - Display letters present only in the first string \n",
        " - Display all letters of both string \n",
        " - Display letters which are not common in both strings. (Symmetric Difference)\n",
        "6. Create a dictionary to perform the following operations:\n",
        " - Update, concatenate, delete \n",
        " - search a key \n",
        " - mapping two list into dictionary\n",
        "7. To search a given element in the Array.\n",
        "\n",
        "\n"
      ],
      "metadata": {
        "id": "V1QfLSCpLOpg"
      }
    },
    {
      "cell_type": "markdown",
      "source": [
        "## Experiment 1.1\n",
        "- To swap two numbers\n",
        "- check if the first number is positive or negative or zero"
      ],
      "metadata": {
        "id": "bNVRtn0MDKaJ"
      }
    },
    {
      "cell_type": "code",
      "source": [
        "a = input(\"Enter a number: \")\n",
        "b = input(\"Enter another number: \")\n",
        "print(\"Before Swapping: a = \" + a + \" b = \" + b)\n",
        "temp = a\n",
        "a = b \n",
        "b = temp\n",
        "print(\"After Swapping: a = \" + a + \" b = \" + b)\n",
        "\n",
        "print(\"The Number a is: \", \"positive\" if a < 0 else \"negative\")"
      ],
      "metadata": {
        "colab": {
          "base_uri": "https://localhost:8080/"
        },
        "id": "lMVab1jGLX5n",
        "outputId": "234beb89-f964-4d92-9862-377f8ebf3643"
      },
      "execution_count": null,
      "outputs": [
        {
          "output_type": "stream",
          "name": "stdout",
          "text": [
            "Enter a number: 5\n",
            "Enter another number: 6\n",
            "Before Swapping: a = 5b = 6\n",
            "After Swapping: a = 6b = 5\n"
          ]
        }
      ]
    },
    {
      "cell_type": "markdown",
      "source": [
        "## Experiment 1.2\n",
        "- To check whether the entered string is palindrome\n",
        "- Find the factorial of the input number."
      ],
      "metadata": {
        "id": "PKxMGEVBEeS-"
      }
    },
    {
      "cell_type": "code",
      "source": [
        "# 2. a. To check whether the entered string is palindrome\n",
        "#      b. Find the factorial of the input number.\n",
        "\n",
        "str1 = input(\"Enter a string: \")\n",
        "strrev = \"\"\n",
        "for char in str1:\n",
        "    strrev = char + strrev\n",
        "\n",
        "print(\"The string is \", \"Pallindrome\" if strrev == str1 else \"Not Pallindrome\")\n",
        "a = int(input(\"Enter a Number: \"))\n",
        "fact = 1\n",
        "for i in range(1, a + 1):\n",
        "    fact = i * fact\n",
        "\n",
        "print(\"The factorial of the number is: \", fact)\n"
      ],
      "metadata": {
        "id": "-A8jJkTdiCRT"
      },
      "execution_count": null,
      "outputs": []
    },
    {
      "cell_type": "markdown",
      "source": [
        "## Experiment 1.3\n",
        "- Separate even and odd nos from the list\n",
        "- merge and sort the two list\n",
        "- update the first element with x value and delete the middle element of the list.\n",
        "- find the minimum and maximum element from the list.\n",
        "- add n names in to the existing  list and check if the word \"python\" is present in the list"
      ],
      "metadata": {
        "id": "x5OqvSd5EkGg"
      }
    },
    {
      "cell_type": "code",
      "source": [
        "\n",
        "numlist = []\n",
        "n = int(input(\"Enter the number of elements in the list: \"))\n",
        "for i in range(0, n):\n",
        "  num = int(input())\n",
        "  numlist.append(num)\n",
        "\n",
        "oddlist = []\n",
        "evenlist = []\n",
        "for i in numlist:\n",
        "    if i % 2 == 0:\n",
        "        evenlist.append(i)\n",
        "    else:\n",
        "        oddlist.append(i)\n",
        "\n",
        "print(evenlist)\n",
        "print(oddlist)"
      ],
      "metadata": {
        "colab": {
          "base_uri": "https://localhost:8080/"
        },
        "id": "69oLcrpAEoNf",
        "outputId": "5a8e1859-1ff0-4045-d5b0-5d1bf991bb77"
      },
      "execution_count": 22,
      "outputs": [
        {
          "output_type": "stream",
          "name": "stdout",
          "text": [
            "Enter the number of elements in the list: 5\n",
            "1\n",
            "2\n",
            "3\n",
            "4\n",
            "5\n",
            "[2, 4]\n",
            "[1, 3, 5]\n"
          ]
        }
      ]
    },
    {
      "cell_type": "code",
      "source": [
        "evenlist.extend(oddlist)\n",
        "evenlist.sort()\n",
        "print(evenlist)"
      ],
      "metadata": {
        "colab": {
          "base_uri": "https://localhost:8080/"
        },
        "id": "0-aRac-DILak",
        "outputId": "690c29dd-288d-4356-f98d-cd22cc34fd10"
      },
      "execution_count": 23,
      "outputs": [
        {
          "output_type": "stream",
          "name": "stdout",
          "text": [
            "[1, 2, 3, 4, 5]\n"
          ]
        }
      ]
    },
    {
      "cell_type": "code",
      "source": [
        "evenlist[0] = 99\n",
        "\n",
        "print(min(evenlist))\n",
        "print(max(evenlist))"
      ],
      "metadata": {
        "colab": {
          "base_uri": "https://localhost:8080/"
        },
        "id": "fOBj6E01IwPl",
        "outputId": "f633afcc-ec0a-49fd-cd4e-9f1558f1354c"
      },
      "execution_count": 24,
      "outputs": [
        {
          "output_type": "stream",
          "name": "stdout",
          "text": [
            "2\n",
            "99\n"
          ]
        }
      ]
    },
    {
      "cell_type": "code",
      "source": [
        "programming_languages = [\"python\", \"c++\", \"java\", \"javascript\", \"rust\"]\n",
        "for lang in programming_languages:\n",
        "  evenlist.append(lang)\n",
        "\n",
        "index = evenlist.index(\"python\")\n",
        "print(\"\\\"python\\\" found at index: \", index)"
      ],
      "metadata": {
        "id": "nPV0Ak8RJi7Y",
        "outputId": "21ab271c-c878-47b6-f93c-03cbd7f65e0d",
        "colab": {
          "base_uri": "https://localhost:8080/"
        }
      },
      "execution_count": 26,
      "outputs": [
        {
          "output_type": "stream",
          "name": "stdout",
          "text": [
            "\"python\" found at index:  5\n"
          ]
        }
      ]
    }
  ]
}