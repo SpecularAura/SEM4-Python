{
  "nbformat": 4,
  "nbformat_minor": 0,
  "metadata": {
    "colab": {
      "provenance": [],
      "toc_visible": true
    },
    "kernelspec": {
      "name": "python3",
      "display_name": "Python 3"
    },
    "language_info": {
      "name": "python"
    }
  },
  "cells": [
    {
      "cell_type": "markdown",
      "source": [
        "Name: Aum Kulkarni  \n",
        "Div: D6AD  \n",
        "Roll No: 36  \n",
        "Date: 31 Jan 2023"
      ],
      "metadata": {
        "id": "EAsX8cCXQtc3"
      }
    },
    {
      "cell_type": "markdown",
      "source": [
        "## Experiment 1.1\n",
        "- To swap two numbers\n",
        "- check if the first number is positive or negative or zero"
      ],
      "metadata": {
        "id": "bNVRtn0MDKaJ"
      }
    },
    {
      "cell_type": "code",
      "source": [
        "a = int(input(\"Enter a number: \"))\n",
        "b = int(input(\"Enter another number: \"))\n",
        "print(\"Before Swapping: a = \", a, \" b = \", b)\n",
        "temp = a\n",
        "a = b \n",
        "b = temp\n",
        "print(\"After Swapping: a = \", a, \" b = \", b)\n",
        "\n",
        "print(\"The Number a is: \", \"negative\" if a < 0 else \"positive\")"
      ],
      "metadata": {
        "id": "5fV7Jj8w0Ejb",
        "outputId": "6649e3a0-32f4-4b9a-9aae-ad16769f39ec",
        "colab": {
          "base_uri": "https://localhost:8080/",
          "height": 0
        }
      },
      "execution_count": 3,
      "outputs": [
        {
          "output_type": "stream",
          "name": "stdout",
          "text": [
            "Enter a number: 5\n",
            "Enter another number: 6\n",
            "Before Swapping: a =  5  b =  6\n",
            "After Swapping: a =  6  b =  5\n",
            "The Number a is:  positive\n"
          ]
        }
      ]
    },
    {
      "cell_type": "markdown",
      "source": [
        "## Experiment 1.2\n",
        "- To check whether the entered string is palindrome\n",
        "- Find the factorial of the input number."
      ],
      "metadata": {
        "id": "PKxMGEVBEeS-"
      }
    },
    {
      "cell_type": "code",
      "source": [
        "# 2. a. To check whether the entered string is palindrome\n",
        "#      b. Find the factorial of the input number.\n",
        "\n",
        "str1 = input(\"Enter a string: \")\n",
        "strrev = \"\"\n",
        "for char in str1:\n",
        "    strrev = char + strrev\n",
        "\n",
        "print(\"The string is \", \"Pallindrome\" if strrev == str1 else \"Not Pallindrome\")\n",
        "a = int(input(\"Enter a Number: \"))\n",
        "\n",
        "fact = 1\n",
        "for i in range(1, a + 1):\n",
        "    fact = i * fact\n",
        "\n",
        "print(\"The factorial of the number is: \", fact)\n"
      ],
      "metadata": {
        "id": "-A8jJkTdiCRT",
        "outputId": "2e4d0396-f3d1-4ee9-fc39-7ef70df41584",
        "colab": {
          "base_uri": "https://localhost:8080/",
          "height": 0
        }
      },
      "execution_count": 5,
      "outputs": [
        {
          "output_type": "stream",
          "name": "stdout",
          "text": [
            "Enter a string: naman\n",
            "The string is  Pallindrome\n",
            "Enter a Number: 5\n",
            "The factorial of the number is:  120\n"
          ]
        }
      ]
    },
    {
      "cell_type": "markdown",
      "source": [
        "## Experiment 1.3\n",
        "- Separate even and odd nos from the list\n",
        "- merge and sort the two list\n",
        "- update the first element with x value and delete the middle element of the list.\n",
        "- find the minimum and maximum element from the list.\n",
        "- add n names in to the existing  list and check if the word \"python\" is present in the list"
      ],
      "metadata": {
        "id": "x5OqvSd5EkGg"
      }
    },
    {
      "cell_type": "code",
      "source": [
        "import array as arr\n",
        "numlist = []\n",
        "n = int(input(\"Enter the number of elements in the list: \"))\n",
        "for i in range(0, n):\n",
        "  num = int(input())\n",
        "  numlist.append(num)\n",
        "\n",
        "oddlist = []\n",
        "evenlist = []\n",
        "for i in numlist:\n",
        "    if i % 2 == 0:\n",
        "        evenlist.append(i)\n",
        "    else:\n",
        "        oddlist.append(i)\n",
        "\n",
        "print(evenlist)\n",
        "print(oddlist)"
      ],
      "metadata": {
        "colab": {
          "base_uri": "https://localhost:8080/"
        },
        "id": "69oLcrpAEoNf",
        "outputId": "a5487738-f5f5-4007-f99e-48eaa0449ee8"
      },
      "execution_count": null,
      "outputs": [
        {
          "output_type": "stream",
          "name": "stdout",
          "text": [
            "Enter the number of elements in the list: 5\n",
            "5\n",
            "4\n",
            "3\n",
            "2\n",
            "1\n",
            "[4, 2]\n",
            "[5, 3, 1]\n"
          ]
        }
      ]
    },
    {
      "cell_type": "code",
      "source": [
        "evenlist.extend(oddlist)\n",
        "evenlist.sort()\n",
        "print(evenlist)"
      ],
      "metadata": {
        "colab": {
          "base_uri": "https://localhost:8080/"
        },
        "id": "0-aRac-DILak",
        "outputId": "690c29dd-288d-4356-f98d-cd22cc34fd10"
      },
      "execution_count": null,
      "outputs": [
        {
          "output_type": "stream",
          "name": "stdout",
          "text": [
            "[1, 2, 3, 4, 5]\n"
          ]
        }
      ]
    },
    {
      "cell_type": "code",
      "source": [
        "evenlist[0] = 99\n",
        "evenlist.pop(int(len(evenlist) + 1 / 2) - 1)\n",
        "print(min(evenlist))\n",
        "print(max(evenlist))"
      ],
      "metadata": {
        "colab": {
          "base_uri": "https://localhost:8080/"
        },
        "id": "fOBj6E01IwPl",
        "outputId": "f633afcc-ec0a-49fd-cd4e-9f1558f1354c"
      },
      "execution_count": null,
      "outputs": [
        {
          "output_type": "stream",
          "name": "stdout",
          "text": [
            "2\n",
            "99\n"
          ]
        }
      ]
    },
    {
      "cell_type": "code",
      "source": [
        "programming_languages = [\"python\", \"c++\", \"java\", \"javascript\", \"rust\"]\n",
        "for lang in programming_languages:\n",
        "  evenlist.append(lang)\n",
        "\n",
        "index = evenlist.index(\"python\")\n",
        "print(\"\\\"python\\\" found at index: \", index)"
      ],
      "metadata": {
        "id": "nPV0Ak8RJi7Y",
        "outputId": "21ab271c-c878-47b6-f93c-03cbd7f65e0d",
        "colab": {
          "base_uri": "https://localhost:8080/"
        }
      },
      "execution_count": null,
      "outputs": [
        {
          "output_type": "stream",
          "name": "stdout",
          "text": [
            "\"python\" found at index:  5\n"
          ]
        }
      ]
    },
    {
      "cell_type": "markdown",
      "source": [
        "## Experiment 1.4\n",
        " - Create a Tuple to store Student details (rno, name , subjects marks, total)\n",
        " - Display the details\n",
        " - Sort the tuples wrt to total\n"
      ],
      "metadata": {
        "id": "2DQhNEdkr0lN"
      }
    },
    {
      "cell_type": "code",
      "source": [
        "student_details = ((1, 'Hi', 45, 107), (2, 'There', 45, 108), \n",
        "                   (2, 'There', 45, 109), (2, 'There', 45, 110),\n",
        "                   (2, 'There', 45, 111), (2, 'There', 45, 106))\n",
        "for i in sorted(student_details, key = lambda student: student[3]):\n",
        "  print(i)"
      ],
      "metadata": {
        "colab": {
          "base_uri": "https://localhost:8080/"
        },
        "id": "youYceVythKX",
        "outputId": "9ddbcdfd-da2d-44c7-edb5-c13b6dd7e02d"
      },
      "execution_count": null,
      "outputs": [
        {
          "output_type": "stream",
          "name": "stdout",
          "text": [
            "(2, 'There', 45, 106)\n",
            "(1, 'Hi', 45, 107)\n",
            "(2, 'There', 45, 108)\n",
            "(2, 'There', 45, 109)\n",
            "(2, 'There', 45, 110)\n",
            "(2, 'There', 45, 111)\n"
          ]
        }
      ]
    },
    {
      "cell_type": "markdown",
      "source": [
        "## Experiment 1.5\n",
        " - Accept two strings  using variable declarations.\n",
        " - Display the common letters.\n",
        " - Display letters present only in the first string \n",
        " - Display all letters of both string \n",
        " - Display letters which are not common in both strings."
      ],
      "metadata": {
        "id": "URv6nAqqv3of"
      }
    },
    {
      "cell_type": "code",
      "source": [
        "string1 = input(\"Enter a string\")\n",
        "string2 = input(\"Enter another string\")\n",
        "# string1 = string1.lower\n",
        "# string2 = string2.lower\n",
        "string1_set = set(string1)\n",
        "string2_set = set(string2)\n",
        "print(\"Common Letters: \", string1_set & string2_set)\n",
        "print(\"Letter only in first string: \", string1_set - string2_set)\n",
        "print(\"Letters in both strings: \", string1_set | string2_set)\n",
        "print(\"Letters in both strings: \", string1_set ^ string2_set)"
      ],
      "metadata": {
        "colab": {
          "base_uri": "https://localhost:8080/"
        },
        "id": "qgYHbNokwAr-",
        "outputId": "991e8d76-53d8-4fb7-f80d-72dfa99021ff"
      },
      "execution_count": null,
      "outputs": [
        {
          "output_type": "stream",
          "name": "stdout",
          "text": [
            "Enter a stringhello\n",
            "Enter another stringspink\n",
            "{'h', 'o', 'e', 'l'} {'p', 'k', 'i', 's', 'n'}\n",
            "Common Letters:  set()\n",
            "Letter only in first string:  {'h', 'o', 'e', 'l'}\n",
            "Letters in both strings:  {'o', 'k', 'h', 'e', 'p', 'l', 'i', 's', 'n'}\n",
            "Letters in both strings:  {'h', 'l', 'k', 's', 'n', 'o', 'e', 'p', 'i'}\n"
          ]
        }
      ]
    },
    {
      "cell_type": "markdown",
      "source": [
        "## Experiment 1.6\n",
        " - Update, concatenate, delete \n",
        " - search a key \n",
        " - mapping two list into dictionary"
      ],
      "metadata": {
        "id": "Kwn2G9BIziPB"
      }
    },
    {
      "cell_type": "code",
      "source": [
        "dict1 = {'a': 45, 'b': 46, 'c': 47, '#': 49}\n",
        "dict2 = {'d': 48, 'e': 49, 'f': 50}\n",
        "\n",
        "dict1['#'] = 48\n",
        "print(dict1)\n",
        "\n",
        "dict1.update(dict2)\n",
        "print(dict1)\n",
        "\n",
        "dict1.pop('#')\n",
        "print(dict1)\n",
        "\n",
        "if '#' in dict1:\n",
        "  print(\"# wasn't deleted\")\n"
      ],
      "metadata": {
        "colab": {
          "base_uri": "https://localhost:8080/"
        },
        "id": "fdUywbktzlrI",
        "outputId": "600ffcda-23a4-44e5-aaaf-7de1a04330c6"
      },
      "execution_count": null,
      "outputs": [
        {
          "output_type": "stream",
          "name": "stdout",
          "text": [
            "{'a': 45, 'b': 46, 'c': 47, '#': 48}\n",
            "{'a': 45, 'b': 46, 'c': 47, '#': 48, 'd': 48, 'e': 49, 'f': 50}\n",
            "{'a': 45, 'b': 46, 'c': 47, 'd': 48, 'e': 49, 'f': 50}\n"
          ]
        }
      ]
    },
    {
      "cell_type": "code",
      "source": [
        "alphalist = [chr(i) for i in range(ord('a'), ord('z'))]\n",
        "asciilist = [i for i in range(ord('a'), ord('z'))]\n",
        "alphanumdict = dict(zip(alphalist, asciilist))\n",
        "print(alphanumdict)"
      ],
      "metadata": {
        "colab": {
          "base_uri": "https://localhost:8080/"
        },
        "id": "Mnk2QJJG2yRh",
        "outputId": "6dc2bc8d-0961-431f-dfe9-97893ee74c35"
      },
      "execution_count": null,
      "outputs": [
        {
          "output_type": "stream",
          "name": "stdout",
          "text": [
            "{'a': 97, 'b': 98, 'c': 99, 'd': 100, 'e': 101, 'f': 102, 'g': 103, 'h': 104, 'i': 105, 'j': 106, 'k': 107, 'l': 108, 'm': 109, 'n': 110, 'o': 111, 'p': 112, 'q': 113, 'r': 114, 's': 115, 't': 116, 'u': 117, 'v': 118, 'w': 119, 'x': 120, 'y': 121}\n"
          ]
        }
      ]
    },
    {
      "cell_type": "markdown",
      "source": [
        "## Experiment 1.7\n",
        "To search a given element in the Array."
      ],
      "metadata": {
        "id": "UNCP2jjW3J2M"
      }
    },
    {
      "cell_type": "code",
      "source": [
        "newarr = arr.array('i', [i for i in range(1, 10)])\n",
        "print(newarr.index(5))"
      ],
      "metadata": {
        "colab": {
          "base_uri": "https://localhost:8080/"
        },
        "id": "fQBe0xsy3S7S",
        "outputId": "e075038b-d75a-4214-d61a-1af5c7cc0606"
      },
      "execution_count": null,
      "outputs": [
        {
          "output_type": "stream",
          "name": "stdout",
          "text": [
            "4\n"
          ]
        }
      ]
    }
  ]
}