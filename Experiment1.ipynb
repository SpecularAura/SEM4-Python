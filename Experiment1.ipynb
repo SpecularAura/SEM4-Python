{
  "nbformat": 4,
  "nbformat_minor": 0,
  "metadata": {
    "colab": {
      "provenance": []
    },
    "kernelspec": {
      "name": "python3",
      "display_name": "Python 3"
    },
    "language_info": {
      "name": "python"
    }
  },
  "cells": [
    {
      "cell_type": "code",
      "execution_count": null,
      "metadata": {
        "id": "DSq1OUlEK2-Q"
      },
      "outputs": [],
      "source": []
    },
    {
      "cell_type": "markdown",
      "source": [
        "1. a. To swap two numbers\n",
        "   b. check if the first number is positive or negative or zero.\n",
        "2. a. To check whether the entered string is palindrome\n",
        "   b. Find the factorial of the input number.\n",
        "3. Perform the following operations using Lists\n",
        "Separate even and odd nos from the list\n",
        "merge and sort the two list\n",
        "update the first element with x value and delete the middle element of the list.\n",
        "find the minimum and maximum element from the list.\n",
        "add n names in to the existing  list and check if the word \"python\" is present in the list\n",
        "4. Perform the following operations using Tuples\n",
        "Create a Tuple to store Student details (rno, name , subjects marks, total)\n",
        "Display the details\n",
        "Sort the tuples wrt to total\n",
        "5. Perform the following operations using  Sets\n",
        "Accept two strings  using variable declarations.\n",
        "Display the common letters.\n",
        "Display letters present only in the first string \n",
        "Display all letters of both string \n",
        "Display letters which are not common in both strings. (Symmetric Difference)\n",
        "6. Create a dictionary to perform the following operations.\n",
        "Update, concatenate, delete \n",
        "search a key \n",
        "mapping two list into dictionary\n",
        "7. To search a given element in the Array.\n",
        "\n",
        "\n"
      ],
      "metadata": {
        "id": "V1QfLSCpLOpg"
      }
    },
    {
      "cell_type": "code",
      "source": [
        "a = input(\"Enter a number: \")\n",
        "b = input(\"Enter another number: \")\n",
        "print(\"Before Swapping: a = \" + a + \" b = \" + b)\n",
        "temp = a\n",
        "a = b \n",
        "b = temp\n",
        "print(\"After Swapping: a = \" + a + \" b = \" + b)"
      ],
      "metadata": {
        "colab": {
          "base_uri": "https://localhost:8080/"
        },
        "id": "lMVab1jGLX5n",
        "outputId": "234beb89-f964-4d92-9862-377f8ebf3643"
      },
      "execution_count": null,
      "outputs": [
        {
          "output_type": "stream",
          "name": "stdout",
          "text": [
            "Enter a number: 5\n",
            "Enter another number: 6\n",
            "Before Swapping: a = 5b = 6\n",
            "After Swapping: a = 6b = 5\n"
          ]
        }
      ]
    },
    {
      "cell_type": "code",
      "source": [],
      "metadata": {
        "id": "XpjibjeVcIbF"
      },
      "execution_count": null,
      "outputs": []
    },
    {
      "cell_type": "markdown",
      "source": [
        "# 1. a. To swap two numbers\n",
        "#     b. check if the first number is positive or negative or zero.\n",
        "\n",
        "a = int(input(\"Enter a number: \"))\n",
        "b = int(input(\"Enter another number: \"))\n",
        "print(\"Before swapping: a = \", a, \" b = \", b)\n",
        "temp = a\n",
        "a = b\n",
        "b = temp\n",
        "print(\"After swapping: a = \", a, \" b = \", b)\n",
        "\n",
        "print(\"The Number a is: \", \"positive\" if a < 0 else \"negative\")\n",
        "\n",
        "# 2. a. To check whether the entered string is palindrome\n",
        "#      b. Find the factorial of the input number.\n",
        "\n",
        "str1 = input(\"Enter a string: \")\n",
        "strrev = \"\"\n",
        "for char in str1:\n",
        "    strrev = char + strrev\n",
        "\n",
        "print(\"The string is \", \"Pallindrome\" if strrev == str1 else \"Not Pallindrome\")\n",
        "a = int(input(\"Enter a Number: \"))\n",
        "fact = 1\n",
        "for i in range(1, a + 1):\n",
        "    fact = i * fact\n",
        "\n",
        "print(\"The factorial of the number is: \", fact)\n",
        "\n",
        "# 3. Perform the following operations using Lists\n",
        "# Separate even and odd nos from the list\n",
        "# merge and sort the two list\n",
        "# update the first element with x value and delete the middle element of the list.\n",
        "# find the minimum and maximum element from the list.\n",
        "# add n names in to the existing  list and check if the word \"python\" is present in the list\n",
        "numlist = []\n",
        "n = int(input(\"Enter the number of elements in the list: \"))\n",
        "for i in range(0, n):\n",
        "    numlist = numlist.append(int(input()))\n",
        "\n",
        "oddlist = []\n",
        "evenlist = []\n",
        "for i in numlist:\n",
        "    if i % 2 == 0:\n",
        "        evenlist.append(i)\n",
        "    else:\n",
        "        oddlist.append(i)\n",
        "\n",
        "print(evenlist, \"\\n\", oddlist)\n",
        "# 4. Perform the following operations using Tuples\n",
        "# Create a Tuple to store Student details (rno, name , subjects marks, total)\n",
        "# Display the details\n",
        "# Sort the tuples wrt to total\n",
        "# 5. Perform the following operations using  Sets\n",
        "# Accept two strings  using variable declarations.\n",
        "# Display the common letters.\n",
        "# Display letters present only in the first string\n",
        "# Display all letters of both string\n",
        "# Display letters which are not common in both strings. (Symmetric Difference)\n",
        "# 6. Create a dictionary to perform the following operations.\n",
        "# Update, concatenate, delete\n",
        "# search a key\n",
        "# mapping two list into dictionary\n",
        "# 7. To search a given element in the Array.\n"
      ],
      "metadata": {
        "id": "o4XVQE7nh-ek"
      }
    },
    {
      "cell_type": "markdown",
      "source": [],
      "metadata": {
        "id": "77qmIbOLiAfL"
      }
    },
    {
      "cell_type": "code",
      "source": [
        "# 1. a. To swap two numbers\n",
        "#     b. check if the first number is positive or negative or zero.\n",
        "\n",
        "a = int(input(\"Enter a number: \"))\n",
        "b = int(input(\"Enter another number: \"))\n",
        "print(\"Before swapping: a = \", a, \" b = \", b)\n",
        "temp = a\n",
        "a = b\n",
        "b = temp\n",
        "print(\"After swapping: a = \", a, \" b = \", b)\n",
        "\n",
        "print(\"The Number a is: \", \"positive\" if a < 0 else \"negative\")\n",
        "\n",
        "# 2. a. To check whether the entered string is palindrome\n",
        "#      b. Find the factorial of the input number.\n",
        "\n",
        "str1 = input(\"Enter a string: \")\n",
        "strrev = \"\"\n",
        "for char in str1:\n",
        "    strrev = char + strrev\n",
        "\n",
        "print(\"The string is \", \"Pallindrome\" if strrev == str1 else \"Not Pallindrome\")\n",
        "a = int(input(\"Enter a Number: \"))\n",
        "fact = 1\n",
        "for i in range(1, a + 1):\n",
        "    fact = i * fact\n",
        "\n",
        "print(\"The factorial of the number is: \", fact)\n",
        "\n",
        "# 3. Perform the following operations using Lists\n",
        "# Separate even and odd nos from the list\n",
        "# merge and sort the two list\n",
        "# update the first element with x value and delete the middle element of the list.\n",
        "# find the minimum and maximum element from the list.\n",
        "# add n names in to the existing  list and check if the word \"python\" is present in the list\n",
        "numlist = []\n",
        "n = int(input(\"Enter the number of elements in the list: \"))\n",
        "for i in range(0, n):\n",
        "    numlist = numlist.append(int(input()))\n",
        "\n",
        "oddlist = []\n",
        "evenlist = []\n",
        "for i in numlist:\n",
        "    if i % 2 == 0:\n",
        "        evenlist.append(i)\n",
        "    else:\n",
        "        oddlist.append(i)\n",
        "\n",
        "print(evenlist, \"\\n\", oddlist)\n",
        "# 4. Perform the following operations using Tuples\n",
        "# Create a Tuple to store Student details (rno, name , subjects marks, total)\n",
        "# Display the details\n",
        "# Sort the tuples wrt to total\n",
        "# 5. Perform the following operations using  Sets\n",
        "# Accept two strings  using variable declarations.\n",
        "# Display the common letters.\n",
        "# Display letters present only in the first string\n",
        "# Display all letters of both string\n",
        "# Display letters which are not common in both strings. (Symmetric Difference)\n",
        "# 6. Create a dictionary to perform the following operations.\n",
        "# Update, concatenate, delete\n",
        "# search a key\n",
        "# mapping two list into dictionary\n",
        "# 7. To search a given element in the Array.\n"
      ],
      "metadata": {
        "id": "-A8jJkTdiCRT"
      },
      "execution_count": null,
      "outputs": []
    },
    {
      "cell_type": "code",
      "source": [
        "# 3. Perform the following operations using Lists\n",
        "# Separate even and odd nos from the list\n",
        "\n",
        "numlist = []\n",
        "n = int(input(\"Enter the number of elements in the list: \"))\n",
        "for i in range(0, n):\n",
        "    ele = int(input())\n",
        "\n",
        "    numlist.append(ele)  # adding the element\n",
        "\n",
        "oddlist = []\n",
        "evenlist = []\n",
        "for i in numlist:\n",
        "    if i % 2 == 0:\n",
        "        evenlist.append(i)\n",
        "    else:\n",
        "        oddlist.append(i)\n",
        "\n",
        "print(evenlist, \"\\n\", oddlist)\n",
        "\n",
        "# merge and sort the two list\n",
        "newlist = []\n",
        "newlist.append(evenlist)\n",
        "print(newlist)\n",
        "# update the first element with x value and delete the middle element of the list.\n",
        "# find the minimum and maximum element from the list.\n",
        "# add n names in to the existing  list and check if the word \"python\" is present in the list"
      ],
      "metadata": {
        "id": "JBIGcjG3iDPK"
      },
      "execution_count": null,
      "outputs": []
    }
  ]
}