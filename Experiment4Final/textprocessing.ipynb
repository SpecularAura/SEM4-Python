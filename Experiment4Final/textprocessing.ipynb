{
 "cells": [
  {
   "cell_type": "code",
   "execution_count": 20,
   "metadata": {},
   "outputs": [],
   "source": [
    "str1 = \"This is a string to perform text processing operations on\"\n",
    "lorem = \"Lorem ipsum dolor sit amet, consectetur adipiscing elit. In dictum sem nec ligula mattis luctus. Aliquam commodo risus ut massa rutrum gravida. Vivamus mauris nunc, consectetur eu efficitur non, feugiat in risus. Vivamus lobortis diam in urna laoreet finibus nec id eros. In lacinia purus sed dui rutrum, vel ornare enim pretium.\""
   ]
  },
  {
   "cell_type": "code",
   "execution_count": 21,
   "metadata": {},
   "outputs": [
    {
     "name": "stdout",
     "output_type": "stream",
     "text": [
      "['This', 'is', 'string', 'to', 'text', 'processing', 'operations', 'on']\n"
     ]
    }
   ],
   "source": [
    "# Python program to print even length words in a string\n",
    "evenlist = []\n",
    "for word in str1.split():\n",
    "    if len(word) % 2 == 0:\n",
    "        evenlist.append(word)\n",
    "\n",
    "print(evenlist)\n",
    "    "
   ]
  },
  {
   "cell_type": "code",
   "execution_count": 22,
   "metadata": {},
   "outputs": [
    {
     "name": "stdout",
     "output_type": "stream",
     "text": [
      "['This', 'is', 'a', 'string', 'to', 'perform', 'text', 'processing', 'operations', 'on']\n"
     ]
    }
   ],
   "source": [
    "# Python program to create a list of words from a given string.\n",
    "wordlist = []\n",
    "for word in str1.split():\n",
    "    wordlist.append(word)\n",
    "\n",
    "print(wordlist)"
   ]
  },
  {
   "cell_type": "code",
   "execution_count": 23,
   "metadata": {},
   "outputs": [
    {
     "name": "stdout",
     "output_type": "stream",
     "text": [
      "Lorem ipsum dolor sit amet, consectetur adipiscing elit\n",
      "==============\n",
      " In dictum sem nec ligula mattis luctus\n",
      "==============\n",
      " Aliquam commodo risus ut massa rutrum gravida\n",
      "==============\n",
      " Vivamus mauris nunc, consectetur eu efficitur non, feugiat in risus\n",
      "==============\n",
      " Vivamus lobortis diam in urna laoreet finibus nec id eros\n",
      "==============\n",
      " In lacinia purus sed dui rutrum, vel ornare enim pretium\n",
      "==============\n",
      "\n",
      "==============\n"
     ]
    }
   ],
   "source": [
    "for sentence in lorem.split('.'):\n",
    "    print(sentence)\n",
    "    print(\"==============\")"
   ]
  }
 ],
 "metadata": {
  "kernelspec": {
   "display_name": "venv",
   "language": "python",
   "name": "python3"
  },
  "language_info": {
   "codemirror_mode": {
    "name": "ipython",
    "version": 3
   },
   "file_extension": ".py",
   "mimetype": "text/x-python",
   "name": "python",
   "nbconvert_exporter": "python",
   "pygments_lexer": "ipython3",
   "version": "3.10.7"
  },
  "orig_nbformat": 4,
  "vscode": {
   "interpreter": {
    "hash": "7a8b1510f27d888dca028d36a4e3c848cb7be608112191e908da581c6b678982"
   }
  }
 },
 "nbformat": 4,
 "nbformat_minor": 2
}
