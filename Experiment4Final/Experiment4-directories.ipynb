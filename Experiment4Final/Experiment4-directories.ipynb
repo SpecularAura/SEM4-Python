{
 "cells": [
  {
   "cell_type": "code",
   "execution_count": 9,
   "metadata": {},
   "outputs": [
    {
     "name": "stdout",
     "output_type": "stream",
     "text": [
      "arithmetic_op\n",
      "arithmetic_op_driver.py\n",
      "directories.ipynb\n",
      "directories.pdf\n",
      "Experiment4.md\n",
      "filehandlin.ipynb\n",
      "filehandlin.pdf\n",
      "sampletext.txt\n",
      "sample_upper.txt\n",
      "textprocessing.ipynb\n",
      "textprocessing.pdf\n",
      "textprocessing.txt\n"
     ]
    }
   ],
   "source": [
    "import os\n",
    "\n",
    "#print files in current directory\n",
    "for file_name in os.listdir(os.getcwd()):\n",
    "    print(file_name)"
   ]
  },
  {
   "cell_type": "code",
   "execution_count": 10,
   "metadata": {},
   "outputs": [
    {
     "name": "stdout",
     "output_type": "stream",
     "text": [
      "py: 1\n",
      "ipynb: 3\n",
      "pdf: 3\n",
      "md: 1\n",
      "txt: 3\n"
     ]
    }
   ],
   "source": [
    "# Write a program extcount.py to count the number of files for each extension in the given directory. The program should take a directory name as argument and print count and extension for each available file extension.\n",
    "import os\n",
    "ext_dict = {}\n",
    "for file_name in os.listdir(os.getcwd()):\n",
    "    if not os.path.isfile(os.path.join(os.getcwd(), file_name)):\n",
    "        continue\n",
    "    file_rawname, file_ext = file_name.split(\".\")\n",
    "    if file_rawname == '':\n",
    "        continue\n",
    "    if file_ext in ext_dict.keys():\n",
    "        ext_dict[file_ext] += 1\n",
    "    else:\n",
    "        ext_dict.update({file_ext: 1})\n",
    "\n",
    "for i,j in ext_dict.items():\n",
    "    print(f'{i}: {j}')"
   ]
  },
  {
   "cell_type": "code",
   "execution_count": 11,
   "metadata": {},
   "outputs": [
    {
     "name": "stdout",
     "output_type": "stream",
     "text": [
      "d:\\VESIT\\SECONDYEAR-SEM4\\Practicals\\Python\\Experiment4Final\n",
      "\td:\\VESIT\\SECONDYEAR-SEM4\\Practicals\\Python\\Experiment4Final\\arithmetic_op\n",
      "\t\tadd.py\n",
      "\t\tdiff.py\n",
      "\t\tmodulo.py\n",
      "\t\tsquare.py\n",
      "\t\t__init__.py\n",
      "\tarithmetic_op_driver.py\n",
      "\tdirectories.ipynb\n",
      "\tdirectories.pdf\n",
      "\tExperiment4.md\n",
      "\tfilehandlin.ipynb\n",
      "\tfilehandlin.pdf\n",
      "\tsampletext.txt\n",
      "\tsample_upper.txt\n",
      "\ttextprocessing.ipynb\n",
      "\ttextprocessing.pdf\n",
      "\ttextprocessing.txt\n"
     ]
    }
   ],
   "source": [
    "# Write a program to print directory-tree. The program should take the path of a directory as an argument and print all the files in it recursively as a tree.\n",
    "import os\n",
    "import sys\n",
    "def tree(dir,tabcount=0):\n",
    "    ls=os.listdir(dir)\n",
    "    dirs=[]\n",
    "    for i in range(0, tabcount):\n",
    "        print(\"\\t\", end='')\n",
    "    print(os.path.abspath(dir))\n",
    "    for file_name in ls:\n",
    "        if not os.path.isfile(os.path.join(dir, file_name)):\n",
    "            dirs.append(file_name)\n",
    "            ls.remove(file_name)\n",
    "    for dir in dirs:\n",
    "        tree(dir, tabcount+1)\n",
    "    \n",
    "    for file_name in ls:\n",
    "        for i in range(0, tabcount+1):\n",
    "            print(\"\\t\", end='')\n",
    "        print(file_name)\n",
    "\n",
    "\n",
    "tree(os.getcwd())"
   ]
  }
 ],
 "metadata": {
  "kernelspec": {
   "display_name": "venv",
   "language": "python",
   "name": "python3"
  },
  "language_info": {
   "codemirror_mode": {
    "name": "ipython",
    "version": 3
   },
   "file_extension": ".py",
   "mimetype": "text/x-python",
   "name": "python",
   "nbconvert_exporter": "python",
   "pygments_lexer": "ipython3",
   "version": "3.10.7"
  },
  "orig_nbformat": 4,
  "vscode": {
   "interpreter": {
    "hash": "7a8b1510f27d888dca028d36a4e3c848cb7be608112191e908da581c6b678982"
   }
  }
 },
 "nbformat": 4,
 "nbformat_minor": 2
}
