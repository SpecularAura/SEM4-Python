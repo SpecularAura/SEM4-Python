{
 "cells": [
  {
   "cell_type": "code",
   "execution_count": 54,
   "metadata": {},
   "outputs": [
    {
     "data": {
      "text/plain": [
       "284"
      ]
     },
     "execution_count": 54,
     "metadata": {},
     "output_type": "execute_result"
    }
   ],
   "source": [
    "file1 = open(r'sampletext.txt', 'r')\n",
    "file2 = open(r'sample_upper.txt', 'w')\n",
    "file2.write(file1.read().upper())\n"
   ]
  },
  {
   "cell_type": "code",
   "execution_count": 55,
   "metadata": {},
   "outputs": [],
   "source": [
    "def word_frequency(filehandler):\n",
    "    wordcountdict = {}\n",
    "    for line in filehandler:\n",
    "        for word in line.split():\n",
    "            if word in wordcountdict:\n",
    "                wordcountdict[word] += 1\n",
    "            else:\n",
    "                wordcountdict.update({word: 1})\n",
    "    \n",
    "    return wordcountdict"
   ]
  },
  {
   "cell_type": "code",
   "execution_count": 56,
   "metadata": {},
   "outputs": [
    {
     "name": "stdout",
     "output_type": "stream",
     "text": [
      "The most repeated words is Lorem and is repeated 6 times\n"
     ]
    }
   ],
   "source": [
    "file1 = open(r'sampletext.txt', 'r')\n",
    "frequency = word_frequency(file1)\n",
    "\n",
    "sorted_dict = dict(sorted(frequency.items(), key=lambda x:x[1], reverse=True ))\n",
    "sorted_dict_keys = list(sorted_dict.keys())\n",
    "sorted_dict_values = list(sorted_dict.values())\n",
    "print(f'The most repeated words is {sorted_dict_keys[0]} and is repeated {sorted_dict_values[0]} times')"
   ]
  },
  {
   "cell_type": "code",
   "execution_count": 57,
   "metadata": {},
   "outputs": [
    {
     "name": "stdout",
     "output_type": "stream",
     "text": [
      "Lorem ipsum dolor sit amet Lorem ipsum dolor sit amet Lorem ipsum dolor sit amet Lorem ipsum dolor sit amet Lorem ipsum dolor sit amet Lorem ipsum dolor sit amet \n",
      "consectetur adipiscing elit consectetur adipiscing elit consectetur adipiscing elit \n",
      "laboris nisi ut aliquip laboris nisi\n",
      "This text was put by the python program\n"
     ]
    }
   ],
   "source": [
    "file1 = open(r'sampletext.txt', 'a')\n",
    "file1.write(\"\\nThis text was put by the python program\")\n",
    "file1 = open(r'sampletext.txt', 'r')\n",
    "print(file1.read())"
   ]
  },
  {
   "cell_type": "code",
   "execution_count": 58,
   "metadata": {},
   "outputs": [],
   "source": [
    "file2.close()\n",
    "file1.close()"
   ]
  },
  {
   "attachments": {},
   "cell_type": "markdown",
   "metadata": {},
   "source": [
    "**sampletext**    \n",
    "Lorem ipsum dolor sit amet Lorem ipsum dolor sit amet Lorem ipsum dolor sit amet Lorem ipsum dolor sit amet Lorem ipsum dolor sit amet Lorem ipsum dolor sit amet \n",
    "consectetur adipiscing elit consectetur adipiscing elit consectetur adipiscing elit \n",
    "laboris nisi ut aliquip laboris nisi\n",
    "This text was put by the python program\n",
    "\n",
    "**sample_upper**\n",
    "\n",
    "LOREM IPSUM DOLOR SIT AMET LOREM IPSUM DOLOR SIT AMET LOREM IPSUM DOLOR SIT AMET LOREM IPSUM DOLOR SIT AMET LOREM IPSUM DOLOR SIT AMET LOREM IPSUM DOLOR SIT AMET \n",
    "CONSECTETUR ADIPISCING ELIT CONSECTETUR ADIPISCING ELIT CONSECTETUR ADIPISCING ELIT \n",
    "LABORIS NISI UT ALIQUIP LABORIS NISI\n"
   ]
  }
 ],
 "metadata": {
  "kernelspec": {
   "display_name": "venv",
   "language": "python",
   "name": "python3"
  },
  "language_info": {
   "codemirror_mode": {
    "name": "ipython",
    "version": 3
   },
   "file_extension": ".py",
   "mimetype": "text/x-python",
   "name": "python",
   "nbconvert_exporter": "python",
   "pygments_lexer": "ipython3",
   "version": "3.10.7"
  },
  "orig_nbformat": 4,
  "vscode": {
   "interpreter": {
    "hash": "7a8b1510f27d888dca028d36a4e3c848cb7be608112191e908da581c6b678982"
   }
  }
 },
 "nbformat": 4,
 "nbformat_minor": 2
}
