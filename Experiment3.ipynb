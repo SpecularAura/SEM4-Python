{
  "nbformat": 4,
  "nbformat_minor": 0,
  "metadata": {
    "colab": {
      "provenance": [],
      "authorship_tag": "ABX9TyNJOQNiFzcDVmAbmGguxX9M"
    },
    "kernelspec": {
      "name": "python3",
      "display_name": "Python 3"
    },
    "language_info": {
      "name": "python"
    }
  },
  "cells": [
    {
      "cell_type": "markdown",
      "source": [
        "Create a Vehicle class with name, max_speed, capacity and mileage instance attributes. Create a Bus child class that inherits from the Vehicle class. Give the capacity argument of Bus.seating_capacity() a default value of 50. Define a class attribute ”color” with a default value white. i.e, Every Vehicle should be white. The default fare charge of any vehicle is seating capacity * 100.  \n",
        "- If Vehicle is Bus instance, we need to add an extra 10% on full fare as a maintenance charge. So total fare for bus instance will become the final amount = total fare + 10% of the total fare.  Override the fare() method of a Vehicle class in Bus class.\n",
        "- Write a code snippet to determine which class a given Bus object belongs to.\n",
        "- Create an object named School_bus and determine if School_bus is also an instance of the Vehicle class.\n"
      ],
      "metadata": {
        "id": "Be3tkgUbYx5v"
      }
    },
    {
      "cell_type": "code",
      "execution_count": 24,
      "metadata": {
        "colab": {
          "base_uri": "https://localhost:8080/"
        },
        "id": "_HyHMBO7UEZw",
        "outputId": "a1e80db4-52f5-411a-8d4a-d283913ede7a"
      },
      "outputs": [
        {
          "output_type": "stream",
          "name": "stdout",
          "text": [
            "Hi 80 50 20 5500\n",
            "Class of bus is  Bus\n",
            "School Bus is an instance of Vehicle\n"
          ]
        }
      ],
      "source": [
        "#Base Class\n",
        "class Vehicle:\n",
        "  color = \"white\"\n",
        "  def __init__(self, name, max_speed, capacity, mileage):\n",
        "    self.name = name\n",
        "    self.max_speed = max_speed\n",
        "    self.capacity = capacity\n",
        "    self.mileage = mileage\n",
        "\n",
        "  def fare(self):\n",
        "    return self.capacity * 100\n",
        "\n",
        "#Derived Class\n",
        "class Bus(Vehicle):\n",
        "  def __init__(self, name, max_speed, capacity, mileage):\n",
        "    super().__init__(name, max_speed, capacity, mileage)\n",
        "  def seating_capacity(self, capacity=50):\n",
        "    self.capacity = capacity\n",
        "  def fare(self):\n",
        "    return self.capacity * 100 + self.capacity * 10\n",
        "\n",
        "#Driver Code\n",
        "bus = Bus(\"Hi\", 80, 50, 20)\n",
        "print(bus.name, bus.max_speed, bus.capacity, bus.mileage, bus.fare())\n",
        "classtype = str(type(bus))\n",
        "print(\"Class of bus is \", classtype[classtype.find('.') + 1 :-2])\n",
        "School_bus = Bus(\"There\", 40, 50, 30)\n",
        "print(\"School Bus is {} instance of Vehicle\".format(\"an\" if isinstance(School_bus, Vehicle) else \"not an\"))\n"
      ]
    },
    {
      "cell_type": "code",
      "source": [],
      "metadata": {
        "id": "uAy90xYMY_Jv"
      },
      "execution_count": null,
      "outputs": []
    }
  ]
}