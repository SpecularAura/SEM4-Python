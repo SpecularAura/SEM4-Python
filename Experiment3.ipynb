{
  "nbformat": 4,
  "nbformat_minor": 0,
  "metadata": {
    "colab": {
      "provenance": []
    },
    "kernelspec": {
      "name": "python3",
      "display_name": "Python 3"
    },
    "language_info": {
      "name": "python"
    }
  },
  "cells": [
    {
      "cell_type": "markdown",
      "source": [
        "Name: Aum Kulkarni  \n",
        "Roll No: 36  \n",
        "Div: D6AD"
      ],
      "metadata": {
        "id": "YxvcZoqjAMEV"
      }
    },
    {
      "cell_type": "markdown",
      "source": [
        "Interactive Calculator : User input is assumed to be a formula that consists of a number, an operator (at least + and -), and another number, separated by white space (e.g. 1 + 1). Split user input using str.split(), and check whether the resulting list is valid:  \n",
        "- If the input does not consist of 3 elements, raise a FormulaError, which is a custom Exception.  \n",
        "- Try to convert the first and third input to a float (like so: float_value = float(str_value)). Catch any ValueError that occurs, and instead raise a FormulaError  \n",
        "- If the second input is not '+' or '-', again raise a FormulaError  \n",
        "- If the input is valid, perform the calculation and print out the result. The user is then prompted to provide new input, and so on, until the user enters quit.\n"
      ],
      "metadata": {
        "id": "7ywpmvEnChbH"
      }
    },
    {
      "cell_type": "code",
      "source": [
        "class FormulaError(Exception):\n",
        "  def __init__(self, msg):\n",
        "    self.msg = msg\n",
        "  def __str__(self):\n",
        "    return \"Invalid Expression:\" + repr(self.msg)\n",
        "\n",
        "def Calculator(expressionString):\n",
        "  expressionArr = expressionString.split()\n",
        "  if len(expressionArr) != 3:\n",
        "    raise(FormulaError(\"Incorrect format of expression\"))\n",
        "  if expressionArr[1] != \"+\" and expressionArr[1] != \"-\":\n",
        "    raise(FormulaError(\"Cannot perform such an operation\"))\n",
        "  operand = expressionArr[1]\n",
        "  try:\n",
        "    operand1 = float(expressionArr[0])\n",
        "    operand2 = float(expressionArr[2])\n",
        "  except ValueError as valueerror:\n",
        "    raise(FormulaError(\"Cannot Convert the operand to a float value\"))\n",
        "  if operand == \"+\":\n",
        "    result = operand1 + operand2\n",
        "  elif operand == \"-\":\n",
        "    result = operand1 + operand2\n",
        "  return result\n",
        "\n",
        "#Driver Code\n",
        "expString = input(\"Enter a expression of the format operand1 +/- operand2\\n\")\n",
        "try:\n",
        "  print(\"The result of the expression: \", Calculator(expString))\n",
        "except FormulaError as fe:\n",
        "  print(fe)"
      ],
      "metadata": {
        "colab": {
          "base_uri": "https://localhost:8080/"
        },
        "id": "DPeUqrG7Ch5-",
        "outputId": "bb16be93-edf7-411d-fba0-d2ea9eb3add7"
      },
      "execution_count": 8,
      "outputs": [
        {
          "output_type": "stream",
          "name": "stdout",
          "text": [
            "Enter a expression of the format operand1 +/- operand2\n",
            "5+7\n",
            "Invalid Expression:'Incorrect format of expression'\n"
          ]
        }
      ]
    },
    {
      "cell_type": "markdown",
      "source": [
        "Create a Vehicle class with name, max_speed, capacity and mileage instance attributes. Create a Bus child class that inherits from the Vehicle class. Give the capacity argument of Bus.seating_capacity() a default value of 50. Define a class attribute ”color” with a default value white. i.e, Every Vehicle should be white. The default fare charge of any vehicle is seating capacity * 100.  \n",
        "- If Vehicle is Bus instance, we need to add an extra 10% on full fare as a maintenance charge. So total fare for bus instance will become the final amount = total fare + 10% of the total fare.  Override the fare() method of a Vehicle class in Bus class.\n",
        "- Write a code snippet to determine which class a given Bus object belongs to.\n",
        "- Create an object named School_bus and determine if School_bus is also an instance of the Vehicle class.\n"
      ],
      "metadata": {
        "id": "Be3tkgUbYx5v"
      }
    },
    {
      "cell_type": "code",
      "execution_count": null,
      "metadata": {
        "colab": {
          "base_uri": "https://localhost:8080/"
        },
        "id": "_HyHMBO7UEZw",
        "outputId": "a1e80db4-52f5-411a-8d4a-d283913ede7a"
      },
      "outputs": [
        {
          "output_type": "stream",
          "name": "stdout",
          "text": [
            "Hi 80 50 20 5500\n",
            "Class of bus is  Bus\n",
            "School Bus is an instance of Vehicle\n"
          ]
        }
      ],
      "source": [
        "#Base Class\n",
        "class Vehicle:\n",
        "  color = \"white\"\n",
        "  def __init__(self, name, max_speed, capacity, mileage):\n",
        "    self.name = name\n",
        "    self.max_speed = max_speed\n",
        "    self.capacity = capacity\n",
        "    self.mileage = mileage\n",
        "\n",
        "  def fare(self):\n",
        "    return self.capacity * 100\n",
        "\n",
        "#Derived Class\n",
        "class Bus(Vehicle):\n",
        "  def __init__(self, name, max_speed, capacity, mileage):\n",
        "    super().__init__(name, max_speed, capacity, mileage)\n",
        "  def seating_capacity(self, capacity=50):\n",
        "    self.capacity = capacity\n",
        "  def fare(self):\n",
        "    return self.capacity * 100 + self.capacity * 10\n",
        "\n",
        "#Driver Code\n",
        "bus = Bus(\"Hi\", 80, 50, 20)\n",
        "print(bus.name, bus.max_speed, bus.capacity, bus.mileage, bus.fare())\n",
        "classtype = str(type(bus))\n",
        "print(\"Class of bus is \", classtype[classtype.find('.') + 1 :-2])\n",
        "School_bus = Bus(\"There\", 40, 50, 30)\n",
        "print(\"School Bus is {} instance of Vehicle\".format(\"an\" if isinstance(School_bus, Vehicle) else \"not an\"))\n"
      ]
    },
    {
      "cell_type": "markdown",
      "source": [
        "Implement the following Scenario :  \n",
        "class Shoe:  \n",
        "> Attributes: self.color, self.brand\n",
        "\n",
        "class Converse(Shoe): # Inherits from Shoe  \n",
        "> Attributes: self.lowOrHighTop, self.tongueColor, self.brand = \"Converse\"\n",
        "\n",
        "class CombatBoot(Shoe): # Inherits from Shoe  \n",
        "> Attributes: self.militaryBranch, self.DesertOrJungle  \n",
        "\n",
        "class Sandal(Shoe): # Inherits from Shoe  \n",
        "> Attributes: self.openOrClosedToe, self.waterproof  \n"
      ],
      "metadata": {
        "id": "ISlPGjpV1g2h"
      }
    },
    {
      "cell_type": "code",
      "source": [
        "#Base Class\n",
        "class Shoe:\n",
        "  def __init__(self, color, brand):\n",
        "    self.color = color\n",
        "    self.brand = brand\n",
        "\n",
        "#Derived Classes\n",
        "class Converse(Shoe):\n",
        "  def __init__(self, color, lowOrHighTop, tongueColor):\n",
        "    super().__init__(color, \"Converse\")\n",
        "    self.lowOrHighTop = lowOrHighTop\n",
        "    self.tongueColor = tongueColor\n",
        "\n",
        "class CombatBoot(Shoe):\n",
        "  def __init__(self, color, brand, militaryBranch, DesertOrJungle):\n",
        "    super().__init__(color, brand)\n",
        "    self.militaryBranch = militaryBranch\n",
        "    self.DesertOrJungle = DesertOrJungle\n",
        "\n",
        "class Sandal(Shoe):\n",
        "  def __init__(self, color, brand, openOrClosedToe, waterproof):\n",
        "    super().__init__(color, brand)\n",
        "    self.openOrClosedToe = openOrClosedToe\n",
        "    self.waterproof = waterproof\n",
        "\n",
        "#Driver Code\n",
        "sandal = Sandal(\"blue\", \"Paragon\", \"ClodedToe\", True)\n",
        "print(\"Sandal Brand: \", sandal.brand, \"\\nSandal Color: \",sandal.color, \"\\nSandal type: \",sandal.openOrClosedToe, \"\\nWaterproof?:\", \"Yes\" if sandal.waterproof else \"No\")"
      ],
      "metadata": {
        "id": "uAy90xYMY_Jv",
        "colab": {
          "base_uri": "https://localhost:8080/"
        },
        "outputId": "4c236701-1215-4fba-abb1-b624336fcd0c"
      },
      "execution_count": 2,
      "outputs": [
        {
          "output_type": "stream",
          "name": "stdout",
          "text": [
            "Sandal Brand:  Paragon \n",
            "Sandal Color:  blue \n",
            "Sandal type:  ClodedToe \n",
            "Waterproof?: Yes\n"
          ]
        }
      ]
    }
  ]
}