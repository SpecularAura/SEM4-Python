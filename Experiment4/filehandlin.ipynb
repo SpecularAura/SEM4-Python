{
 "cells": [
  {
   "cell_type": "code",
   "execution_count": 5,
   "metadata": {},
   "outputs": [
    {
     "data": {
      "text/plain": [
       "7057"
      ]
     },
     "execution_count": 5,
     "metadata": {},
     "output_type": "execute_result"
    }
   ],
   "source": [
    "file1 = open(r'sampletext.txt', 'r')\n",
    "file2 = open(r'sample_upper.txt', 'w')\n",
    "file2.write(file1.read().upper())\n"
   ]
  },
  {
   "cell_type": "code",
   "execution_count": 14,
   "metadata": {},
   "outputs": [
    {
     "name": "stdout",
     "output_type": "stream",
     "text": [
      "quis: 9\n",
      "consectetur: 8\n",
      "doloremque: 8\n",
      "fugiat: 8\n",
      "dolor: 7\n",
      "corrupti: 7\n",
      "illum: 7\n",
      "enim: 7\n",
      "est: 7\n",
      "nam: 7\n"
     ]
    }
   ],
   "source": [
    "file1 = open(r'sampletext.txt', 'r')\n",
    "wordcountdict = {}\n",
    "for line in file1:\n",
    "    for word in line.split():\n",
    "        if word in wordcountdict:\n",
    "            wordcountdict[word] += 1\n",
    "        else:\n",
    "            wordcountdict.update({word: 1})\n",
    "\n",
    "sorted_dict = dict(sorted(wordcountdict.items(), key=lambda x:x[1], reverse=True ))\n",
    "k = 0\n",
    "sorted_dict_keys = list(sorted_dict.keys())\n",
    "sorted_dict_values = list(sorted_dict.values())\n",
    "while k < 10:\n",
    "    print(f'{sorted_dict_keys[k]}: {sorted_dict_values[k]}')\n",
    "    k += 1\n",
    "file2.close()\n",
    "file1.close()"
   ]
  }
 ],
 "metadata": {
  "kernelspec": {
   "display_name": "Python 3.10.7 ('venv': venv)",
   "language": "python",
   "name": "python3"
  },
  "language_info": {
   "codemirror_mode": {
    "name": "ipython",
    "version": 3
   },
   "file_extension": ".py",
   "mimetype": "text/x-python",
   "name": "python",
   "nbconvert_exporter": "python",
   "pygments_lexer": "ipython3",
   "version": "3.10.7"
  },
  "orig_nbformat": 4,
  "vscode": {
   "interpreter": {
    "hash": "7a8b1510f27d888dca028d36a4e3c848cb7be608112191e908da581c6b678982"
   }
  }
 },
 "nbformat": 4,
 "nbformat_minor": 2
}
