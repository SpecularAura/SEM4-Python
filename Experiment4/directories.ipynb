{
 "cells": [
  {
   "cell_type": "code",
   "execution_count": 8,
   "metadata": {},
   "outputs": [
    {
     "name": "stdout",
     "output_type": "stream",
     "text": [
      "directories.ipynb\n",
      "filehandlin.ipynb\n",
      "sampletext.txt\n",
      "sample_upper.txt\n",
      "directories    ipynb\n",
      "filehandlin    ipynb\n",
      "sampletext    txt\n",
      "sample_upper    txt\n"
     ]
    }
   ],
   "source": [
    "import os\n",
    "for file_name in os.listdir(os.getcwd()):\n",
    "    print(file_name)\n",
    "\n",
    "for file_name in os.listdir(os.getcwd()):\n",
    "    file_rawname, file_ext = file_name.split(\".\")\n",
    "    print(file_rawname, \"  \", file_ext)"
   ]
  }
 ],
 "metadata": {
  "kernelspec": {
   "display_name": "Python 3.10.7 ('venv': venv)",
   "language": "python",
   "name": "python3"
  },
  "language_info": {
   "codemirror_mode": {
    "name": "ipython",
    "version": 3
   },
   "file_extension": ".py",
   "mimetype": "text/x-python",
   "name": "python",
   "nbconvert_exporter": "python",
   "pygments_lexer": "ipython3",
   "version": "3.10.7"
  },
  "orig_nbformat": 4,
  "vscode": {
   "interpreter": {
    "hash": "7a8b1510f27d888dca028d36a4e3c848cb7be608112191e908da581c6b678982"
   }
  }
 },
 "nbformat": 4,
 "nbformat_minor": 2
}
