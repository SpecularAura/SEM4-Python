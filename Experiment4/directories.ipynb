{
 "cells": [
  {
   "cell_type": "code",
   "execution_count": 2,
   "metadata": {},
   "outputs": [
    {
     "name": "stdout",
     "output_type": "stream",
     "text": [
      "arithmetic_op\n",
      "arithmetic_op_driver.py\n",
      "directories.ipynb\n",
      "filehandlin.ipynb\n",
      "sampletext.txt\n",
      "sample_upper.txt\n"
     ]
    }
   ],
   "source": [
    "import os\n",
    "#print files in current directory\n",
    "for file_name in os.listdir(os.getcwd()):\n",
    "    print(file_name)"
   ]
  },
  {
   "cell_type": "code",
   "execution_count": 3,
   "metadata": {},
   "outputs": [
    {
     "name": "stdout",
     "output_type": "stream",
     "text": [
      "py: 1\n",
      "ipynb: 2\n",
      "txt: 2\n"
     ]
    }
   ],
   "source": [
    "import os\n",
    "ext_dict = {}\n",
    "for file_name in os.listdir(os.getcwd()):\n",
    "    if not os.path.isfile(os.path.join(os.getcwd(), file_name)):\n",
    "        continue\n",
    "    file_rawname, file_ext = file_name.split(\".\")\n",
    "    if file_rawname == '':\n",
    "        continue\n",
    "    if file_ext in ext_dict.keys():\n",
    "        ext_dict[file_ext] += 1\n",
    "    else:\n",
    "        ext_dict.update({file_ext: 1})\n",
    "\n",
    "for i,j in ext_dict.items():\n",
    "    print(f'{i}: {j}')"
   ]
  }
 ],
 "metadata": {
  "kernelspec": {
   "display_name": "Python 3.11.1 ('venv')",
   "language": "python",
   "name": "python3"
  },
  "language_info": {
   "codemirror_mode": {
    "name": "ipython",
    "version": 3
   },
   "file_extension": ".py",
   "mimetype": "text/x-python",
   "name": "python",
   "nbconvert_exporter": "python",
   "pygments_lexer": "ipython3",
   "version": "3.11.1"
  },
  "orig_nbformat": 4,
  "vscode": {
   "interpreter": {
    "hash": "a991df282a9e1f6d6e81f41651b17e85369f06a233a38423c710ab777199e2f6"
   }
  }
 },
 "nbformat": 4,
 "nbformat_minor": 2
}
