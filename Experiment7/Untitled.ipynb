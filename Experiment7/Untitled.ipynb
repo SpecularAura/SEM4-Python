{
 "cells": [
  {
   "cell_type": "code",
   "execution_count": null,
   "metadata": {},
   "outputs": [],
   "source": []
  }
 ],
 "metadata": {
  "kernelspec": {
   "display_name": "venv",
   "language": "python",
   "name": "python3"
  },
  "language_info": {
   "name": "python",
   "version": "3.10.7"
  },
  "vscode": {
   "interpreter": {
    "hash": "7a8b1510f27d888dca028d36a4e3c848cb7be608112191e908da581c6b678982"
   }
  }
 },
 "nbformat": 4,
 "nbformat_minor": 5
}
