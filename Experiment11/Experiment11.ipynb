{
  "nbformat": 4,
  "nbformat_minor": 0,
  "metadata": {
    "colab": {
      "provenance": []
    },
    "kernelspec": {
      "name": "python3",
      "display_name": "Python 3"
    },
    "language_info": {
      "name": "python"
    }
  },
  "cells": [
    {
      "cell_type": "markdown",
      "source": [
        "#EXPERIMENT 11\n",
        "\n",
        "1]Convert 1-D array with 8 elements into a 2-D array in Python"
      ],
      "metadata": {
        "id": "DBnhdk1MFy5m"
      }
    },
    {
      "cell_type": "code",
      "execution_count": null,
      "metadata": {
        "colab": {
          "base_uri": "https://localhost:8080/"
        },
        "id": "jxPxZ_VqFyDO",
        "outputId": "a90b4992-d5f9-46e8-e1db-2fa42bd95c8b"
      },
      "outputs": [
        {
          "output_type": "stream",
          "name": "stdout",
          "text": [
            "After reshaping having dimension 4x2:\n",
            "[[1 2]\n",
            " [3 4]\n",
            " [5 6]\n",
            " [7 8]]\n",
            "\n",
            "\n",
            "After reshaping having dimension 2x4:\n",
            "[[1 2 3 4]\n",
            " [5 6 7 8]]\n",
            "\n",
            "\n"
          ]
        }
      ],
      "source": [
        "import numpy as np\n",
        "# 1-D array having elements [1 2 3 4 5 6 7 8]\n",
        "arr = np.array([1, 2, 3, 4, 5, 6, 7, 8])\n",
        "arr1 = arr.reshape(4, 2)\n",
        "print ('After reshaping having dimension 4x2:')\n",
        "print (arr1)\n",
        "print ('\\n')\n",
        "arr2 = arr.reshape(2, 4)\n",
        "print ('After reshaping having dimension 2x4:')\n",
        "print (arr2)\n",
        "print ('\\n')\n"
      ]
    },
    {
      "cell_type": "markdown",
      "source": [
        "2)Create a 3D numpy array of ones in Python\n",
        "import numpy as np"
      ],
      "metadata": {
        "id": "EfCEITBGGQWq"
      }
    },
    {
      "cell_type": "code",
      "source": [
        "the_3d_array = np.ones((2, 2, 2))\n",
        "print(the_3d_array)\n"
      ],
      "metadata": {
        "colab": {
          "base_uri": "https://localhost:8080/"
        },
        "id": "QuRHuZRdGQeZ",
        "outputId": "ea0885cc-f27e-4b14-c7b5-1036aaaf66b8"
      },
      "execution_count": null,
      "outputs": [
        {
          "output_type": "stream",
          "name": "stdout",
          "text": [
            "[[[1. 1.]\n",
            "  [1. 1.]]\n",
            "\n",
            " [[1. 1.]\n",
            "  [1. 1.]]]\n"
          ]
        }
      ]
    },
    {
      "cell_type": "markdown",
      "source": [
        "3)Calculate the sum of every column in a NumPy array in Python"
      ],
      "metadata": {
        "id": "fAfAp1h0GQtq"
      }
    },
    {
      "cell_type": "code",
      "source": [
        "import numpy\n",
        "# explicit function to compute column wise sum\n",
        "def colsum(arr, n, m):\n",
        "  for i in range(n):\n",
        "    su = 0;\n",
        "    for j in range(m):\n",
        "      su += arr[j][i]\n",
        "    print(su, end = \" \")\n",
        "# creating the 2D Array\n",
        "TwoDList = [[1, 2, 3], [4, 5, 6],\n",
        "[7, 8, 9], [10, 11, 12]]\n",
        "TwoDArray = numpy.array(TwoDList)\n",
        "# displaying the 2D Array\n",
        "print(\"2D Array:\")\n",
        "print(TwoDArray)\n",
        "# printing the sum of each column\n",
        "print(\"\\nColumn-wise Sum:\")\n",
        "colsum(TwoDArray, len(TwoDArray[0]), len(TwoDArray))"
      ],
      "metadata": {
        "colab": {
          "base_uri": "https://localhost:8080/"
        },
        "id": "Fy-KoDjmGQ4S",
        "outputId": "c71a18b0-ad2a-423c-deb6-706672587354"
      },
      "execution_count": null,
      "outputs": [
        {
          "output_type": "stream",
          "name": "stdout",
          "text": [
            "2D Array:\n",
            "[[ 1  2  3]\n",
            " [ 4  5  6]\n",
            " [ 7  8  9]\n",
            " [10 11 12]]\n",
            "\n",
            "Column-wise Sum:\n",
            "22 26 30 "
          ]
        }
      ]
    },
    {
      "cell_type": "markdown",
      "source": [
        "4)Get the transpose of an numpy array in python"
      ],
      "metadata": {
        "id": "SFch4_3NGRBK"
      }
    },
    {
      "cell_type": "code",
      "source": [
        "import numpy as np\n",
        "a= np.arange(12).reshape((4,3))\n",
        "a\n",
        "print(a)\n",
        "b=np.transpose(a)\n",
        "b\n",
        "print(b)\n"
      ],
      "metadata": {
        "colab": {
          "base_uri": "https://localhost:8080/"
        },
        "id": "eZbs_f9bGRI-",
        "outputId": "f81b8edd-804c-410f-b9aa-a8e3ddad2b48"
      },
      "execution_count": null,
      "outputs": [
        {
          "output_type": "stream",
          "name": "stdout",
          "text": [
            "[[ 0  1  2]\n",
            " [ 3  4  5]\n",
            " [ 6  7  8]\n",
            " [ 9 10 11]]\n",
            "[[ 0  3  6  9]\n",
            " [ 1  4  7 10]\n",
            " [ 2  5  8 11]]\n"
          ]
        }
      ]
    },
    {
      "cell_type": "markdown",
      "source": [
        "5)Sum Last Column only in Numpy"
      ],
      "metadata": {
        "id": "F7L-diIKGRWy"
      }
    },
    {
      "cell_type": "code",
      "source": [
        "import numpy as np\n",
        "arr = np.array([1, 2, 3, 4, 5, 6, 7, 8, 9, 10, 11, 12])\n",
        "newarr = arr.reshape(4, 3)\n",
        "print(newarr)\n",
        "column_sums = newarr[:, 0].sum()\n",
        "print(column_sums)"
      ],
      "metadata": {
        "colab": {
          "base_uri": "https://localhost:8080/"
        },
        "id": "P_jlLFqcGRgy",
        "outputId": "120a6f14-1c26-4be4-c754-30dc61b6e54e"
      },
      "execution_count": null,
      "outputs": [
        {
          "output_type": "stream",
          "name": "stdout",
          "text": [
            "[[ 1  2  3]\n",
            " [ 4  5  6]\n",
            " [ 7  8  9]\n",
            " [10 11 12]]\n",
            "22\n"
          ]
        }
      ]
    }
  ]
}