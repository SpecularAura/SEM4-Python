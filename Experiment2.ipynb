{
  "nbformat": 4,
  "nbformat_minor": 0,
  "metadata": {
    "colab": {
      "provenance": [],
      "authorship_tag": "ABX9TyO6jQcqb3mHfVWe64kfhWV5"
    },
    "kernelspec": {
      "name": "python3",
      "display_name": "Python 3"
    },
    "language_info": {
      "name": "python"
    }
  },
  "cells": [
    {
      "cell_type": "markdown",
      "source": [
        "## Functions (Attempt any 3)\n",
        "- Write a function to display Fibonacci Numbers using Recursion. Invoke the function to display the first 20 numbers from the sequence.\n",
        "- Write a function to display the ASCII value of the character passed to it while invocation.\n",
        "- Write a menu driven program to implement a Simple Calculator.\n",
        "- Write a Python function to check whether a number is perfect or not. \n",
        "- Write a Python function that prints out the first n rows of Pascal's triangle\n",
        "- Write a Python function to check whether a string is a pangram or not.  \n",
        "  Hint :  Pangrams are words or sentences containing every letter of the alphabet at least once. For example : \"The quick brown fox jumps over the lazy dog\".\n"
      ],
      "metadata": {
        "id": "SXxSsUVTTa6I"
      }
    },
    {
      "cell_type": "code",
      "execution_count": 4,
      "metadata": {
        "id": "FIvhlki8Ot7Q",
        "outputId": "4c1b4075-f22e-49a9-8a51-7f560b5f8c91",
        "colab": {
          "base_uri": "https://localhost:8080/"
        }
      },
      "outputs": [
        {
          "output_type": "stream",
          "name": "stdout",
          "text": [
            "0 1 1 2 3 5 8 13 21 34 55 89 144 233 377 610 987 1597 2584 4181 "
          ]
        }
      ],
      "source": [
        "def fibonacci(n):\n",
        "  if n == 0:\n",
        "    return 0\n",
        "  if n == 1:\n",
        "    return 1\n",
        "  return fibonacci(n - 1) + fibonacci(n - 2)\n",
        "\n",
        "def print_fibo(n):\n",
        "  for i in range(0, n):\n",
        "    print(fibonacci(i), end = \" \")\n",
        "\n",
        "print_fibo(20)"
      ]
    },
    {
      "cell_type": "code",
      "source": [
        "def charToAscii(char):\n",
        "  if isinstance(char, str) and len(char) == 1:\n",
        "    return ord(char)\n",
        "  elif len(char) != 1:\n",
        "    return \"Not a character\"\n",
        "  else:\n",
        "    return \"ascii value doesn't exist\"\n",
        "\n",
        "print(charToAscii('H'))"
      ],
      "metadata": {
        "id": "8jq8aMltVOUv",
        "outputId": "a33dee31-fa7c-4a63-b9ec-c84ad93facab",
        "colab": {
          "base_uri": "https://localhost:8080/"
        }
      },
      "execution_count": 13,
      "outputs": [
        {
          "output_type": "stream",
          "name": "stdout",
          "text": [
            "72\n"
          ]
        }
      ]
    },
    {
      "cell_type": "code",
      "source": [
        "def divisorList(n):\n",
        "  divisors = []\n",
        "  print(type(divisors))\n",
        "  i = 1\n",
        "  while (i <= n):\n",
        "    if n%i == 0:\n",
        "      divisors.append(i)\n",
        "    i += 1\n",
        "  return divisors\n",
        "\n",
        "def isPerfect(n):\n",
        "  divisors = divisorList(n)\n",
        "  divisorSum = sum(divisors[:-1])\n",
        "  return divisorSum == n\n",
        "\n",
        "print(isPerfect(15))"
      ],
      "metadata": {
        "id": "h6hP-vpkXSMg",
        "outputId": "47c9c5e0-cc64-4100-8c7c-3d8dc98dd527",
        "colab": {
          "base_uri": "https://localhost:8080/"
        }
      },
      "execution_count": 35,
      "outputs": [
        {
          "output_type": "stream",
          "name": "stdout",
          "text": [
            "<class 'list'>\n",
            "False\n"
          ]
        }
      ]
    },
    {
      "cell_type": "markdown",
      "source": [
        "## Classes (Attempt any 2 out of 3)\n",
        " - Write a Python class named Student with 3 attributes student_id, student_name and student_class (class variable). Create a function to display the entire attribute and their values in Student class. Create two instances student1, student2 and assign given values to the said instances attributes. Print all the attributes of student1, student2 instances with their values\n",
        " - Write a Python class named Circle constructed by a radius and two methods which will compute the area and the perimeter of a circle. Create an instance and calculate its area & perimeter by invoking the methods.\n",
        " - Write a Python class to find the validity of a string of parentheses, '(', ')', '{', '}', '[' and ']. These brackets must be close in the correct order, for example \"()\" and \"()[]{}\" are valid but \"[)\", \"({[)]\" and \"{{{\" are invalid.\n"
      ],
      "metadata": {
        "id": "3zZ0cpO5dGnD"
      }
    },
    {
      "cell_type": "code",
      "source": [
        "class Student:\n",
        "  def __init__(self, student_id, student_name, student_class):\n",
        "    self.student_id = student_id\n",
        "    self.student_name = student_name\n",
        "    self.student_class = student_class\n",
        "  \n",
        "  def diplayStudent(self):\n",
        "    print(\"Student ID: \", self.student_id)\n",
        "    print(\"Student Name: \", self.student_name)\n",
        "    print(\"Student Class: \", self.student_class)\n",
        "\n",
        "student1 = Student(1, \"Aum Kulkarni\", \"D6AD\")\n",
        "student2 = Student(2, \"Manas Mahajan\", \"D6AD\")\n",
        "\n",
        "student1.diplayStudent()\n",
        "student2.diplayStudent()"
      ],
      "metadata": {
        "id": "4deJ6FjTdpzJ",
        "outputId": "fddec083-9314-4628-8d99-b79b36510b4f",
        "colab": {
          "base_uri": "https://localhost:8080/"
        }
      },
      "execution_count": 37,
      "outputs": [
        {
          "output_type": "stream",
          "name": "stdout",
          "text": [
            "Student ID:  1\n",
            "Student Name:  Aum Kulkarni\n",
            "Student Class:  D6AD\n",
            "Student ID:  2\n",
            "Student Name:  Manas Mahajan\n",
            "Student Class:  D6AD\n"
          ]
        }
      ]
    },
    {
      "cell_type": "code",
      "source": [
        "import math\n",
        "\n",
        "class Circle:\n",
        "  def __init__(self, radius):\n",
        "    self.radius = radius\n",
        "\n",
        "  def area(self):\n",
        "    return math.pi * self.radius * self.radius\n",
        "  \n",
        "  def perimeter(self):\n",
        "    return math.pi * self.radius * 2\n",
        "\n",
        "newCircle = Circle(10) \n",
        "print(\"Area: \", newCircle.area(), \"\\nPerimeter: \", newCircle.perimeter())"
      ],
      "metadata": {
        "id": "-ov7HxLVgKdr",
        "outputId": "3ceee602-54f1-4896-994f-c65e3c825202",
        "colab": {
          "base_uri": "https://localhost:8080/"
        }
      },
      "execution_count": 40,
      "outputs": [
        {
          "output_type": "stream",
          "name": "stdout",
          "text": [
            "Area:  314.1592653589793 \n",
            "Perimeter:  62.83185307179586\n"
          ]
        }
      ]
    }
  ]
}